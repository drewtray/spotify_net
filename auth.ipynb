{
 "cells": [
  {
   "cell_type": "code",
   "execution_count": null,
   "metadata": {},
   "outputs": [],
   "source": [
    "# default_exp auth"
   ]
  },
  {
   "cell_type": "code",
   "execution_count": null,
   "metadata": {},
   "outputs": [],
   "source": [
    "import config\n",
    "import requests\n",
    "import base64"
   ]
  },
  {
   "cell_type": "markdown",
   "metadata": {},
   "source": [
    "# auth\n",
    "\n",
    "> User grants access/app requests access"
   ]
  },
  {
   "cell_type": "code",
   "execution_count": null,
   "metadata": {},
   "outputs": [],
   "source": [
    "#hide\n",
    "from nbdev.showdoc import *"
   ]
  },
  {
   "cell_type": "code",
   "execution_count": null,
   "metadata": {},
   "outputs": [],
   "source": [
    "AUTH_URL = 'https://accounts.spotify.com/authorize?'\n",
    "scope = 'playlist-modify-public'"
   ]
  },
  {
   "cell_type": "code",
   "execution_count": null,
   "metadata": {},
   "outputs": [],
   "source": [
    "pars = {\n",
    "    'client_id': config.CLIENT_ID,\n",
    "    'response_type': 'code',\n",
    "    'redirect_uri': 'http://localhost:8888/callback',\n",
    "    'scope': scope, \n",
    "    'show_dialog': True\n",
    "}\n",
    "\n",
    "r = requests.get(AUTH_URL, params=pars)"
   ]
  },
  {
   "cell_type": "code",
   "execution_count": null,
   "metadata": {},
   "outputs": [],
   "source": [
    "# dir(r)"
   ]
  },
  {
   "cell_type": "code",
   "execution_count": null,
   "metadata": {},
   "outputs": [
    {
     "data": {
      "text/plain": [
       "200"
      ]
     },
     "execution_count": null,
     "metadata": {},
     "output_type": "execute_result"
    }
   ],
   "source": [
    "r.status_code"
   ]
  },
  {
   "cell_type": "code",
   "execution_count": null,
   "metadata": {},
   "outputs": [
    {
     "data": {
      "text/plain": [
       "'https://accounts.spotify.com/en/login?continue=https%3A%2F%2Faccounts.spotify.com%2Fauthorize%3Fscope%3Dplaylist-modify-public%26response_type%3Dcode%26redirect_uri%3Dhttp%253A%252F%252Flocalhost%253A8888%252Fcallback%26client_id%3Deb29ce813d4147f2b9bf396bb353c0e9%26show_dialog%3DTrue'"
      ]
     },
     "execution_count": null,
     "metadata": {},
     "output_type": "execute_result"
    }
   ],
   "source": [
    "r.url"
   ]
  },
  {
   "cell_type": "markdown",
   "metadata": {},
   "source": [
    "### code from callback after auth"
   ]
  },
  {
   "cell_type": "code",
   "execution_count": null,
   "metadata": {},
   "outputs": [],
   "source": [
    "auth_code='AQBJLvw722Eg9nNdADdYqyj0A2ms4xI_V1LARER48XG2jr9XJX9g9sNZH6_CzKxNnH9u_ISDxohr8yaOac3ruARz3ez0ZCOrIK0xKGD6NyiyzEPXynO1aakMXqdKsh0aoxuoI3WKykLX3G1aFU5lyibLOVPBonoRXXPTRqEIA4sCaNLSSsypHVHEDBDgLmavMUsNXoF7NhvrUQ'"
   ]
  },
  {
   "cell_type": "code",
   "execution_count": null,
   "metadata": {},
   "outputs": [],
   "source": [
    "TOKEN_URL = 'https://accounts.spotify.com/api/token'"
   ]
  },
  {
   "cell_type": "code",
   "execution_count": null,
   "metadata": {},
   "outputs": [],
   "source": [
    "# message = f\"{clientId}:{clientSecret}\"\n",
    "message = config.CLIENT_ID + ':' + config.CLIENT_SECRET\n",
    "messageBytes = message.encode('ascii')\n",
    "base64Bytes = base64.b64encode(messageBytes)\n",
    "base64Message = base64Bytes.decode('ascii')\n"
   ]
  },
  {
   "cell_type": "code",
   "execution_count": null,
   "metadata": {},
   "outputs": [
    {
     "data": {
      "text/plain": [
       "'ZWIyOWNlODEzZDQxNDdmMmI5YmYzOTZiYjM1M2MwZTk6NWVmNWNiODJiNDJmNDJkMzgxZmQxMWE0ZDk4YWIyMTY='"
      ]
     },
     "execution_count": null,
     "metadata": {},
     "output_type": "execute_result"
    }
   ],
   "source": [
    "base64Message"
   ]
  },
  {
   "cell_type": "code",
   "execution_count": null,
   "metadata": {},
   "outputs": [],
   "source": [
    "headers = {\n",
    "    'Authorization': 'Basic ' + base64Message,\n",
    "    'Content-Type': 'application/x-www-form-urlencoded'\n",
    "}\n",
    "\n",
    "pars_b = {\n",
    "    'grant_type': 'authorization_code',\n",
    "    'code': auth_code,\n",
    "    'redirect_uri': 'http://localhost:8888/callback',\n",
    "}\n",
    "\n",
    "r = requests.post(TOKEN_URL, headers=headers, params=pars_b)"
   ]
  },
  {
   "cell_type": "code",
   "execution_count": null,
   "metadata": {},
   "outputs": [],
   "source": [
    "r_dict = r.json()"
   ]
  },
  {
   "cell_type": "code",
   "execution_count": null,
   "metadata": {},
   "outputs": [],
   "source": [
    "access_token = r_dict['access_token']"
   ]
  },
  {
   "cell_type": "code",
   "execution_count": null,
   "metadata": {},
   "outputs": [],
   "source": [
    "# user_id = '919605a6d96b40c7'\n",
    "user_id = 'atraylor6'\n",
    "play_url = f'https://api.spotify.com/v1/users/{user_id}/playlists'\n",
    "headers = {\n",
    "    'Authorization': f'Bearer {access_token}'\n",
    "}\n",
    "\n",
    "test = requests.get(play_url, headers=headers)"
   ]
  },
  {
   "cell_type": "code",
   "execution_count": null,
   "metadata": {},
   "outputs": [
    {
     "data": {
      "text/plain": [
       "200"
      ]
     },
     "execution_count": null,
     "metadata": {},
     "output_type": "execute_result"
    }
   ],
   "source": [
    "test.status_code"
   ]
  },
  {
   "cell_type": "code",
   "execution_count": null,
   "metadata": {},
   "outputs": [
    {
     "data": {
      "text/plain": [
       "{'href': 'https://api.spotify.com/v1/users/atraylor6/playlists?offset=0&limit=20',\n",
       " 'items': [{'collaborative': False,\n",
       "   'description': '',\n",
       "   'external_urls': {'spotify': 'https://open.spotify.com/playlist/2iDp3O7zAdEdeUzlZHTtFu'},\n",
       "   'href': 'https://api.spotify.com/v1/playlists/2iDp3O7zAdEdeUzlZHTtFu',\n",
       "   'id': '2iDp3O7zAdEdeUzlZHTtFu',\n",
       "   'images': [{'height': None,\n",
       "     'url': 'https://i.scdn.co/image/ab67706c0000bebb5c5617b16a517baded4d8bcc',\n",
       "     'width': None}],\n",
       "   'name': 'søndag',\n",
       "   'owner': {'display_name': 'Drew Traylor',\n",
       "    'external_urls': {'spotify': 'https://open.spotify.com/user/atraylor6'},\n",
       "    'href': 'https://api.spotify.com/v1/users/atraylor6',\n",
       "    'id': 'atraylor6',\n",
       "    'type': 'user',\n",
       "    'uri': 'spotify:user:atraylor6'},\n",
       "   'primary_color': None,\n",
       "   'public': True,\n",
       "   'snapshot_id': 'MzU4LDc3N2MwYWViNDIzZGU5ODQzNTU1ZmZhM2M5YzM5MjdhNjNjYjhkMGE=',\n",
       "   'tracks': {'href': 'https://api.spotify.com/v1/playlists/2iDp3O7zAdEdeUzlZHTtFu/tracks',\n",
       "    'total': 139},\n",
       "   'type': 'playlist',\n",
       "   'uri': 'spotify:playlist:2iDp3O7zAdEdeUzlZHTtFu'},\n",
       "  {'collaborative': False,\n",
       "   'description': '',\n",
       "   'external_urls': {'spotify': 'https://open.spotify.com/playlist/0ZSKsOlj7QFX9LstS7fk39'},\n",
       "   'href': 'https://api.spotify.com/v1/playlists/0ZSKsOlj7QFX9LstS7fk39',\n",
       "   'id': '0ZSKsOlj7QFX9LstS7fk39',\n",
       "   'images': [{'height': None,\n",
       "     'url': 'https://i.scdn.co/image/ab67706c0000bebb0d0317a31e60a6d7c14ee6c8',\n",
       "     'width': None}],\n",
       "   'name': 'DONNA',\n",
       "   'owner': {'display_name': 'Drew Traylor',\n",
       "    'external_urls': {'spotify': 'https://open.spotify.com/user/atraylor6'},\n",
       "    'href': 'https://api.spotify.com/v1/users/atraylor6',\n",
       "    'id': 'atraylor6',\n",
       "    'type': 'user',\n",
       "    'uri': 'spotify:user:atraylor6'},\n",
       "   'primary_color': None,\n",
       "   'public': True,\n",
       "   'snapshot_id': 'MzMzLDE4MDE2NjFmM2Y4ZTNlNGRjMWNkYTUxOTFhZmNkMjUwZDY2ZWJhYzM=',\n",
       "   'tracks': {'href': 'https://api.spotify.com/v1/playlists/0ZSKsOlj7QFX9LstS7fk39/tracks',\n",
       "    'total': 216},\n",
       "   'type': 'playlist',\n",
       "   'uri': 'spotify:playlist:0ZSKsOlj7QFX9LstS7fk39'},\n",
       "  {'collaborative': False,\n",
       "   'description': '',\n",
       "   'external_urls': {'spotify': 'https://open.spotify.com/playlist/2b6mA2TxfNjdnKH7mvgZIh'},\n",
       "   'href': 'https://api.spotify.com/v1/playlists/2b6mA2TxfNjdnKH7mvgZIh',\n",
       "   'id': '2b6mA2TxfNjdnKH7mvgZIh',\n",
       "   'images': [{'height': None,\n",
       "     'url': 'https://i.scdn.co/image/ab67706c0000bebb34800f34abb707a62eff7f54',\n",
       "     'width': None}],\n",
       "   'name': 'Four K',\n",
       "   'owner': {'display_name': 'Drew Traylor',\n",
       "    'external_urls': {'spotify': 'https://open.spotify.com/user/atraylor6'},\n",
       "    'href': 'https://api.spotify.com/v1/users/atraylor6',\n",
       "    'id': 'atraylor6',\n",
       "    'type': 'user',\n",
       "    'uri': 'spotify:user:atraylor6'},\n",
       "   'primary_color': None,\n",
       "   'public': True,\n",
       "   'snapshot_id': 'MTg4LGFlNWZlZTQ5MTE2ZDJhYmJkOGJhY2Q5YjA1NTUyNTI4ZTM5MDUyZDk=',\n",
       "   'tracks': {'href': 'https://api.spotify.com/v1/playlists/2b6mA2TxfNjdnKH7mvgZIh/tracks',\n",
       "    'total': 120},\n",
       "   'type': 'playlist',\n",
       "   'uri': 'spotify:playlist:2b6mA2TxfNjdnKH7mvgZIh'},\n",
       "  {'collaborative': False,\n",
       "   'description': 'Beats me...',\n",
       "   'external_urls': {'spotify': 'https://open.spotify.com/playlist/5zw1m0XWqZ1772z8tizUaD'},\n",
       "   'href': 'https://api.spotify.com/v1/playlists/5zw1m0XWqZ1772z8tizUaD',\n",
       "   'id': '5zw1m0XWqZ1772z8tizUaD',\n",
       "   'images': [{'height': None,\n",
       "     'url': 'https://i.scdn.co/image/ab67706c0000bebba044faedc9e9aa563b429b29',\n",
       "     'width': None}],\n",
       "   'name': 'Loss for words',\n",
       "   'owner': {'display_name': 'Drew Traylor',\n",
       "    'external_urls': {'spotify': 'https://open.spotify.com/user/atraylor6'},\n",
       "    'href': 'https://api.spotify.com/v1/users/atraylor6',\n",
       "    'id': 'atraylor6',\n",
       "    'type': 'user',\n",
       "    'uri': 'spotify:user:atraylor6'},\n",
       "   'primary_color': None,\n",
       "   'public': True,\n",
       "   'snapshot_id': 'MTEyLDBhNDIwNTE3OWE2NTZhYmE5OTdiNWNjZjNkZWFhNjcxN2YwNWU3Y2I=',\n",
       "   'tracks': {'href': 'https://api.spotify.com/v1/playlists/5zw1m0XWqZ1772z8tizUaD/tracks',\n",
       "    'total': 92},\n",
       "   'type': 'playlist',\n",
       "   'uri': 'spotify:playlist:5zw1m0XWqZ1772z8tizUaD'},\n",
       "  {'collaborative': False,\n",
       "   'description': '',\n",
       "   'external_urls': {'spotify': 'https://open.spotify.com/playlist/4U9dVZ97mizvT2FBjx3fGx'},\n",
       "   'href': 'https://api.spotify.com/v1/playlists/4U9dVZ97mizvT2FBjx3fGx',\n",
       "   'id': '4U9dVZ97mizvT2FBjx3fGx',\n",
       "   'images': [{'height': None,\n",
       "     'url': 'https://i.scdn.co/image/ab67706c0000bebbfcbc4f9d67df3d4ee257fd45',\n",
       "     'width': None}],\n",
       "   'name': 'Intermission Expedition',\n",
       "   'owner': {'display_name': 'Drew Traylor',\n",
       "    'external_urls': {'spotify': 'https://open.spotify.com/user/atraylor6'},\n",
       "    'href': 'https://api.spotify.com/v1/users/atraylor6',\n",
       "    'id': 'atraylor6',\n",
       "    'type': 'user',\n",
       "    'uri': 'spotify:user:atraylor6'},\n",
       "   'primary_color': None,\n",
       "   'public': True,\n",
       "   'snapshot_id': 'MTEyLDZhZDljZTQwNjVhOTlmZTJiMzExM2QxNzBjZTA1ZWVkZjQ1NjYyM2Y=',\n",
       "   'tracks': {'href': 'https://api.spotify.com/v1/playlists/4U9dVZ97mizvT2FBjx3fGx/tracks',\n",
       "    'total': 82},\n",
       "   'type': 'playlist',\n",
       "   'uri': 'spotify:playlist:4U9dVZ97mizvT2FBjx3fGx'},\n",
       "  {'collaborative': False,\n",
       "   'description': 'El rey de la selva',\n",
       "   'external_urls': {'spotify': 'https://open.spotify.com/playlist/29U1jhpnjkwziC4pcsvpml'},\n",
       "   'href': 'https://api.spotify.com/v1/playlists/29U1jhpnjkwziC4pcsvpml',\n",
       "   'id': '29U1jhpnjkwziC4pcsvpml',\n",
       "   'images': [{'height': None,\n",
       "     'url': 'https://i.scdn.co/image/ab67706c0000bebb275022beaf2b9883ab27da43',\n",
       "     'width': None}],\n",
       "   'name': 'PANTHERA ONCA',\n",
       "   'owner': {'display_name': 'Drew Traylor',\n",
       "    'external_urls': {'spotify': 'https://open.spotify.com/user/atraylor6'},\n",
       "    'href': 'https://api.spotify.com/v1/users/atraylor6',\n",
       "    'id': 'atraylor6',\n",
       "    'type': 'user',\n",
       "    'uri': 'spotify:user:atraylor6'},\n",
       "   'primary_color': None,\n",
       "   'public': True,\n",
       "   'snapshot_id': 'NDMzLDA0MWRjYWZiMzFiOGZlYTYwMDNkYTdmZGIyYjlhYjI4ZDdmMDAyNTI=',\n",
       "   'tracks': {'href': 'https://api.spotify.com/v1/playlists/29U1jhpnjkwziC4pcsvpml/tracks',\n",
       "    'total': 208},\n",
       "   'type': 'playlist',\n",
       "   'uri': 'spotify:playlist:29U1jhpnjkwziC4pcsvpml'},\n",
       "  {'collaborative': False,\n",
       "   'description': 'Three recent adds from five playlists I like',\n",
       "   'external_urls': {'spotify': 'https://open.spotify.com/playlist/4KgXBrWZqdqVMPrpFNHxpR'},\n",
       "   'href': 'https://api.spotify.com/v1/playlists/4KgXBrWZqdqVMPrpFNHxpR',\n",
       "   'id': '4KgXBrWZqdqVMPrpFNHxpR',\n",
       "   'images': [{'height': None,\n",
       "     'url': 'https://i.scdn.co/image/ab67706c0000bebbee8669e92ef9f506874246d0',\n",
       "     'width': None}],\n",
       "   'name': '3 x 5',\n",
       "   'owner': {'display_name': 'Drew Traylor',\n",
       "    'external_urls': {'spotify': 'https://open.spotify.com/user/atraylor6'},\n",
       "    'href': 'https://api.spotify.com/v1/users/atraylor6',\n",
       "    'id': 'atraylor6',\n",
       "    'type': 'user',\n",
       "    'uri': 'spotify:user:atraylor6'},\n",
       "   'primary_color': None,\n",
       "   'public': True,\n",
       "   'snapshot_id': 'MjE4LDE3YzJmNDMxMWQyYTg0MTgzNjI3MWRmMTBmZjE1ZDEyNTQ1Y2JhOTI=',\n",
       "   'tracks': {'href': 'https://api.spotify.com/v1/playlists/4KgXBrWZqdqVMPrpFNHxpR/tracks',\n",
       "    'total': 15},\n",
       "   'type': 'playlist',\n",
       "   'uri': 'spotify:playlist:4KgXBrWZqdqVMPrpFNHxpR'},\n",
       "  {'collaborative': False,\n",
       "   'description': '',\n",
       "   'external_urls': {'spotify': 'https://open.spotify.com/playlist/1gM83cehv98l8cdMnZmk5N'},\n",
       "   'href': 'https://api.spotify.com/v1/playlists/1gM83cehv98l8cdMnZmk5N',\n",
       "   'id': '1gM83cehv98l8cdMnZmk5N',\n",
       "   'images': [{'height': None,\n",
       "     'url': 'https://i.scdn.co/image/ab67706c0000bebb18e41023fa60d30cb5b5e942',\n",
       "     'width': None}],\n",
       "   'name': 'Flowgurt',\n",
       "   'owner': {'display_name': 'Drew Traylor',\n",
       "    'external_urls': {'spotify': 'https://open.spotify.com/user/atraylor6'},\n",
       "    'href': 'https://api.spotify.com/v1/users/atraylor6',\n",
       "    'id': 'atraylor6',\n",
       "    'type': 'user',\n",
       "    'uri': 'spotify:user:atraylor6'},\n",
       "   'primary_color': None,\n",
       "   'public': True,\n",
       "   'snapshot_id': 'MzMxLGEwNjIzOTg2OWVmNTYzYjI5NWM0ZGIzYjFkMGNkNDQ4Y2JmZmIzZmQ=',\n",
       "   'tracks': {'href': 'https://api.spotify.com/v1/playlists/1gM83cehv98l8cdMnZmk5N/tracks',\n",
       "    'total': 270},\n",
       "   'type': 'playlist',\n",
       "   'uri': 'spotify:playlist:1gM83cehv98l8cdMnZmk5N'}],\n",
       " 'limit': 20,\n",
       " 'next': None,\n",
       " 'offset': 0,\n",
       " 'previous': None,\n",
       " 'total': 8}"
      ]
     },
     "execution_count": null,
     "metadata": {},
     "output_type": "execute_result"
    }
   ],
   "source": [
    "test.json()"
   ]
  },
  {
   "cell_type": "code",
   "execution_count": null,
   "metadata": {},
   "outputs": [],
   "source": []
  }
 ],
 "metadata": {
  "kernelspec": {
   "display_name": "Python 3",
   "language": "python",
   "name": "python3"
  }
 },
 "nbformat": 4,
 "nbformat_minor": 2
}
