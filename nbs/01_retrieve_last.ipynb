{
 "cells": [
  {
   "cell_type": "markdown",
   "metadata": {},
   "source": [
    "# LastFM API Data Retrieval\n",
    "\n",
    "> Build the LastFmAPI class. "
   ]
  },
  {
   "cell_type": "markdown",
   "metadata": {},
   "source": [
    "Use the class to pull recent tracks from Last FM, and include only those tracks above a certain playcount threshold."
   ]
  },
  {
   "cell_type": "code",
   "execution_count": null,
   "metadata": {},
   "outputs": [],
   "source": [
    "#| default_exp retrieve_last_fm_data"
   ]
  },
  {
   "cell_type": "code",
   "execution_count": null,
   "metadata": {},
   "outputs": [],
   "source": [
    "#| hide\n",
    "from nbdev.showdoc import *"
   ]
  },
  {
   "cell_type": "code",
   "execution_count": null,
   "metadata": {},
   "outputs": [],
   "source": [
    "#| export\n",
    "import os\n",
    "import pandas as pd\n",
    "import requests\n",
    "import boto3\n",
    "import json"
   ]
  },
  {
   "cell_type": "code",
   "execution_count": null,
   "metadata": {},
   "outputs": [],
   "source": [
    "#| export\n",
    "class LastFmAPI:\n",
    "    \"\"\"\n",
    "    Provides an interface to the Last.fm API for retrieving top tracks for a user.\n",
    "\n",
    "    Parameters\n",
    "    ----------\n",
    "    region_name : str\n",
    "        The name of the AWS region where the secrets manager is located.\n",
    "    \"\"\"\n",
    "    required_env_keys = ['spot_clientID', 'spot_clientSECRET', 'spot_ACC', 'spot_REF']\n",
    "\n",
    "    def __init__(self, region_name):\n",
    "        \"\"\"\n",
    "        Initializes a new instance of the LastFmAPI class.\n",
    "\n",
    "        Parameters\n",
    "        ----------\n",
    "        region_name : str\n",
    "            The name of the AWS region where the secrets manager is located.\n",
    "        \"\"\"\n",
    "        self.region_name = region_name\n",
    "    \n",
    "    def get_secret(self, secret_name):\n",
    "        \"\"\"\n",
    "        Retrieves the specified secret from AWS Secrets Manager and sets the corresponding environment variables.\n",
    "\n",
    "        Parameters\n",
    "        ----------\n",
    "        secret_name : str\n",
    "            The name of the secret to retrieve.\n",
    "        \"\"\"\n",
    "        if all([k in os.environ.keys() for k in self.required_env_keys]):\n",
    "            print('All required environment variables are set')\n",
    "        else:\n",
    "            session = boto3.session.Session()\n",
    "            client = session.client(\n",
    "                service_name='secretsmanager',\n",
    "                region_name=self.region_name\n",
    "            )\n",
    "            secret_value = client.get_secret_value(\n",
    "                SecretId=secret_name\n",
    "            )\n",
    "            secret_dict = json.loads(secret_value['SecretString'])\n",
    "            for k, v in secret_dict.items():\n",
    "                os.environ[k] = v\n",
    "\n",
    "    def get_top_tracks(self, period='1month', playcount_cutoff=1):\n",
    "        \"\"\"\n",
    "        Retrieves the top tracks for the user.\n",
    "\n",
    "        Parameters\n",
    "        ----------\n",
    "        period : str, optional\n",
    "            The time period for which to retrieve the top tracks. Default is '1month'.\n",
    "        playcount_cutoff : int, optional\n",
    "            The minimum number of plays required for a track to be included in the results. Default is 1.\n",
    "\n",
    "        Returns\n",
    "        -------\n",
    "        pandas.DataFrame\n",
    "            A DataFrame containing the top tracks for the user. The DataFrame has columns for the track name, artist name, and play count.\n",
    "        \"\"\"\n",
    "        headers = {\n",
    "        'user-agent': os.environ.get('last_userAGENT')\n",
    "        }\n",
    "\n",
    "        payload = {'method': 'user.gettoptracks', \n",
    "                    'period': period,\n",
    "                    'user': os.environ.get('last_username'),\n",
    "                    'api_key': os.environ.get('last_apiKEY'),\n",
    "                    'format': 'json'\n",
    "                    }\n",
    "\n",
    "\n",
    "        r = requests.get('https://ws.audioscrobbler.com/2.0/', headers=headers, params=payload)\n",
    "\n",
    "        # Apply formatting\n",
    "        tracks = r.json()['toptracks']['track']\n",
    "        tracks = pd.DataFrame(tracks)\n",
    "        tracks = tracks[['name', 'artist', 'playcount']]\n",
    "        tracks['artist'] = tracks['artist'].apply(lambda x: x['name'])\n",
    "        tracks['playcount'] = tracks['playcount'].astype(int)\n",
    "\n",
    "        # Filter out tracks with low playcount\n",
    "        tracks = tracks.sort_values('playcount', ascending=False)\n",
    "        tracks = tracks[tracks['playcount'] >= playcount_cutoff]\n",
    "\n",
    "        return tracks\n"
   ]
  },
  {
   "cell_type": "code",
   "execution_count": null,
   "metadata": {},
   "outputs": [],
   "source": [
    "show_doc(LastFmAPI.get_secret)"
   ]
  },
  {
   "cell_type": "code",
   "execution_count": null,
   "metadata": {},
   "outputs": [],
   "source": [
    "show_doc(LastFmAPI.get_top_tracks)"
   ]
  },
  {
   "cell_type": "code",
   "execution_count": null,
   "metadata": {},
   "outputs": [],
   "source": [
    "#| export\n",
    "if __name__ == '__main__':\n",
    "    last = LastFmAPI('us-east-1')\n",
    "    last.get_secret('last_keys')\n",
    "    tracks = last.get_top_tracks()\n",
    "    tracks.to_csv('s3://spotify-net/last_fm_recent_tracks.csv')\n",
    "    print('Retrieved')"
   ]
  },
  {
   "cell_type": "code",
   "execution_count": null,
   "metadata": {},
   "outputs": [],
   "source": [
    "#| hide\n",
    "import nbdev; nbdev.nbdev_export()"
   ]
  }
 ],
 "metadata": {
  "kernelspec": {
   "display_name": "python3",
   "language": "python",
   "name": "python3"
  }
 },
 "nbformat": 4,
 "nbformat_minor": 2
}
