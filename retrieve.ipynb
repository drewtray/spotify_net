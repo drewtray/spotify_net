{
 "cells": [
  {
   "cell_type": "code",
   "execution_count": 1,
   "metadata": {},
   "outputs": [],
   "source": [
    "# default_exp retrieve"
   ]
  },
  {
   "cell_type": "code",
   "execution_count": 2,
   "metadata": {},
   "outputs": [],
   "source": [
    "import config\n",
    "import requests\n",
    "import base64\n",
    "import json\n",
    "import pandas as pd"
   ]
  },
  {
   "cell_type": "markdown",
   "metadata": {},
   "source": [
    "# retrieval\n",
    "\n",
    "> Pull all tracks and their features for a user's public playlists"
   ]
  },
  {
   "cell_type": "code",
   "execution_count": 3,
   "metadata": {},
   "outputs": [],
   "source": [
    "#hide\n",
    "from nbdev.showdoc import *"
   ]
  },
  {
   "cell_type": "code",
   "execution_count": 4,
   "metadata": {},
   "outputs": [],
   "source": [
    "with open('spot_tokens.json') as file:\n",
    "    tokens = json.load(file)"
   ]
  },
  {
   "cell_type": "code",
   "execution_count": 5,
   "metadata": {},
   "outputs": [],
   "source": [
    "access_token = tokens['access_token']\n",
    "refresh_token = tokens['refresh_token']"
   ]
  },
  {
   "cell_type": "code",
   "execution_count": 6,
   "metadata": {},
   "outputs": [],
   "source": [
    "pref = {\n",
    "# 'panthera_onca': \"29U1jhpnjkwziC4pcsvpml\",\n",
    "# 'ten': \"6K5607lu5oKcfV5hVRhjtQ\",\n",
    "# 'deep_progressive': \"3DSMq4VymDCJClXlcodgW1\",\n",
    "# 'panthers_are_jaguars': \"2aipXVr9Sl4YlXHK5BBzWN\",\n",
    "# 'humanism': '5iENhVW0Y6WmptwabKSHla',\n",
    "# 'all day i dream of releases': '6uHQQ2T5uFhNFx5AbDBnm6',\n",
    "'the pulse of organic house': '7bFGHw85oqTjCqQnkbOr0i',\n",
    "'BAILE: on rotation': '1tHNL2eat97A0b4ZxDcEQp',\n",
    "'beatport_best_new_melodic': \"15IEm4WquzW48cFgtb7Ym7\",\n",
    "# 'anjunadeep_recommends': \"1GfH39JcID8aFZ0ZQQVkBk\",\n",
    "# 'progressive_house_and_deep_electronic': \"5CMvAWTlDPdZnkleiTHyyo\",\n",
    "'keinemusik': \"3U9lafWEnb3uP6JFbI65uq\",\n",
    "'durante_selects': \"5dLSmr1SqxNnJDtxvWGHJI\",\n",
    "}"
   ]
  },
  {
   "cell_type": "code",
   "execution_count": 7,
   "metadata": {},
   "outputs": [],
   "source": [
    "df_list = []\n",
    "\n",
    "for p_id in pref.values():\n",
    "\n",
    "    df_tracks = pd.DataFrame()\n",
    "\n",
    "    curr_len = 0\n",
    "    offset = 0\n",
    "\n",
    "    while len(df_tracks) % 100 == 0:\n",
    "        \n",
    "        # print(len(df_tracks))\n",
    "        # print(p_id)\n",
    "\n",
    "        track_url = f'https://api.spotify.com/v1/playlists/{p_id}/tracks?limit=100&offset={offset}'\n",
    "        headers = {\n",
    "            'Authorization': f'Bearer {access_token}'\n",
    "        }\n",
    "\n",
    "        r_track = requests.get(track_url, headers=headers)\n",
    "\n",
    "        if r_track.status_code == 401:\n",
    "\n",
    "            TOKEN_URL = 'https://accounts.spotify.com/api/token'\n",
    "\n",
    "            message = config.CLIENT_ID + ':' + config.CLIENT_SECRET\n",
    "            messageBytes = message.encode('ascii')\n",
    "            base64Bytes = base64.b64encode(messageBytes)\n",
    "            base64Message = base64Bytes.decode('ascii')\n",
    "        \n",
    "            headers = {\n",
    "            'Authorization': 'Basic ' + base64Message,\n",
    "            'Content-Type': 'application/x-www-form-urlencoded'\n",
    "            }\n",
    "\n",
    "            pars_refresh = {\n",
    "                'grant_type': 'refresh_token',\n",
    "                'refresh_token': refresh_token,\n",
    "                'redirect_uri': 'http://localhost:8888/callback',\n",
    "            }\n",
    "\n",
    "            r_refresh = requests.post(TOKEN_URL, headers=headers, params=pars_refresh)\n",
    "            access_token = r_refresh.json()['access_token']\n",
    "\n",
    "            headers = {\n",
    "            'Authorization': f'Bearer {access_token}'\n",
    "                    }\n",
    "\n",
    "            r_track = requests.get(track_url, headers=headers)\n",
    "\n",
    "        track_ids = [t['track']['uri'] for t in r_track.json()['items']]\n",
    "        track_names = [t['track']['name'] for t in r_track.json()['items']]\n",
    "        track_added = [t['added_at'] for t in r_track.json()['items']]\n",
    "\n",
    "        df_t = pd.DataFrame({\n",
    "                'name': track_names,\n",
    "                'id': track_ids,\n",
    "                'playlist id': p_id\n",
    "\n",
    "        }, \n",
    "        index=pd.to_datetime(track_added)  \n",
    "        )\n",
    "\n",
    "        # if df_t['id']\n",
    "        df_tracks = df_tracks.append(df_t)\n",
    "        if curr_len == len(df_tracks):\n",
    "            break\n",
    "        else:\n",
    "            curr_len = len(df_tracks)\n",
    "\n",
    "        offset += 100\n",
    "\n",
    "    \n",
    "    df_tracks = df_tracks.sort_index(ascending=False).head(3)\n",
    "    df_list.append(df_tracks)\n",
    "\n",
    "df_tracks = pd.concat(df_list)"
   ]
  },
  {
   "cell_type": "code",
   "execution_count": 16,
   "metadata": {},
   "outputs": [
    {
     "data": {
      "text/plain": [
       "(15, 3)"
      ]
     },
     "execution_count": 16,
     "metadata": {},
     "output_type": "execute_result"
    }
   ],
   "source": [
    "df_tracks = df_tracks.drop_duplicates()\n",
    "df_tracks = df_tracks.sample(frac=1)\n",
    "df_tracks.shape"
   ]
  },
  {
   "cell_type": "code",
   "execution_count": 9,
   "metadata": {},
   "outputs": [],
   "source": [
    "three_by_five = '4KgXBrWZqdqVMPrpFNHxpR'\n",
    "CURR_URL = f'https://api.spotify.com/v1/playlists/{three_by_five}/tracks'\n",
    "r_current = requests.get(CURR_URL, headers=headers)"
   ]
  },
  {
   "cell_type": "code",
   "execution_count": 10,
   "metadata": {},
   "outputs": [],
   "source": [
    "delete_uris = [t['track']['uri'] for t in r_current.json()['items']]\n",
    "# len(delete_uris)"
   ]
  },
  {
   "cell_type": "code",
   "execution_count": 11,
   "metadata": {},
   "outputs": [],
   "source": [
    "del_uri = []\n",
    "for i in delete_uris:\n",
    "    del_uri.append(\n",
    "        {'uri': i}\n",
    "    )\n",
    "del_dict = {'tracks': del_uri}"
   ]
  },
  {
   "cell_type": "code",
   "execution_count": 12,
   "metadata": {},
   "outputs": [],
   "source": [
    "DELETE_URL = f'https://api.spotify.com/v1/playlists/{three_by_five}/tracks'\n",
    "r_delete = requests.delete(DELETE_URL, headers=headers, data=json.dumps(del_dict))"
   ]
  },
  {
   "cell_type": "code",
   "execution_count": 13,
   "metadata": {},
   "outputs": [],
   "source": [
    "track_joins = ','.join(df_tracks['id'].tolist())\n",
    "ADD_URL = f'https://api.spotify.com/v1/playlists/{three_by_five}/tracks?uris={track_joins}'\n",
    "r_add = requests.post(ADD_URL, headers=headers)"
   ]
  }
 ],
 "metadata": {
  "kernelspec": {
   "display_name": "Python 3",
   "language": "python",
   "name": "python3"
  },
  "language_info": {
   "codemirror_mode": {
    "name": "ipython",
    "version": 3
   },
   "file_extension": ".py",
   "mimetype": "text/x-python",
   "name": "python",
   "nbconvert_exporter": "python",
   "pygments_lexer": "ipython3",
   "version": "3.8.8"
  }
 },
 "nbformat": 4,
 "nbformat_minor": 2
}
