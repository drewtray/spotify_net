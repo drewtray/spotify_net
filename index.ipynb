{
 "cells": [
  {
   "cell_type": "raw",
   "metadata": {},
   "source": [
    "---\n",
    "description: This library takes songs from a Spotify catch-all playlist, where the\n",
    "  user adds tracks they like, and feeds them to a classifier only when their playcount\n",
    "  exceeds a certain threshold.\n",
    "output-file: index.html\n",
    "title: Spotify Net\n",
    "\n",
    "---\n",
    "\n"
   ]
  },
  {
   "cell_type": "code",
   "execution_count": null,
   "metadata": {},
   "outputs": [],
   "source": [
    "#| include: false\n",
    "from spotify_net import *"
   ]
  }
 ],
 "metadata": {
  "kernelspec": {
   "display_name": "Python 3",
   "language": "python",
   "name": "python3"
  }
 },
 "nbformat": 4,
 "nbformat_minor": 2
}
