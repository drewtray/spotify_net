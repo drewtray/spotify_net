{
 "cells": [
  {
   "cell_type": "code",
   "execution_count": null,
   "metadata": {},
   "outputs": [],
   "source": [
    "# default_exp lambda"
   ]
  },
  {
   "cell_type": "code",
   "execution_count": null,
   "metadata": {},
   "outputs": [],
   "source": [
    "# export\n",
    "import requests\n",
    "import base64\n",
    "import json\n",
    "import pandas as pd\n",
    "import boto3\n",
    "import math\n",
    "import sklearn"
   ]
  },
  {
   "cell_type": "code",
   "execution_count": null,
   "metadata": {},
   "outputs": [],
   "source": [
    "# export\n",
    "try:\n",
    "    import spotify_net.retrieve_spot_00 as spot\n",
    "    import spotify_net.retrieve_last_01 as last\n",
    "    import spotify_net.prepModel_02 as prep\n",
    "    import spotify_net.hit_endpoint_03 as hit\n",
    "except ModuleNotFoundError:\n",
    "    import retrieve_spot_00 as spot\n",
    "    import retrieve_last_01 as last\n",
    "    import prepModel_02 as prep\n",
    "    import hit_endpoint_03 as hit"
   ]
  },
  {
   "cell_type": "code",
   "execution_count": null,
   "metadata": {},
   "outputs": [],
   "source": [
    "# export\n",
    "def handler(event, context):\n",
    "\n",
    "    # Get spotify tracks\n",
    "    c_id, c_secret, a_token, r_token = spot.cred()\n",
    "    o_tracks = spot.get_tracks('3ubgXaHeBn1CWLUZPXvqkj', a_token, r_token, c_id, c_secret)\n",
    "    n_tracks = spot.track_reduce(o_tracks, include=7)\n",
    "    n_tracks.to_csv('s3://spotify-net/newer_tracks.csv')\n",
    "    _ = spot.update('3ubgXaHeBn1CWLUZPXvqkj', a_token, r_token, c_id, c_secret, o_tracks, n_tracks)\n",
    "    print('Retrieved net from Spotify')\n",
    "\n",
    "    # Get last fm tracks\n",
    "    API_KEY, USER_AGENT, USERNAME = last.last_cred()\n",
    "    tracks = last.last_get('user.gettoptracks', USER_AGENT, USERNAME, API_KEY)\n",
    "    formatted = last.last_format(tracks, 7)\n",
    "    formatted.to_csv('s3://spotify-net/df_tracks.csv')\n",
    "    print('Retrieved top recent from Last FM')\n",
    "\n",
    "    # Combine and prep for model\n",
    "    s3_objects = prep.load_s3()\n",
    "    merged_df = prep.merge_frame(s3_objects['spot_tracks'], s3_objects['last_tracks'])\n",
    "\n",
    "    try:\n",
    "        transformed = prep.dummies_and_scale(merged_df, 0.0000001, s3_objects['scaler'])\n",
    "        _ = prep.full_frame(transformed, s3_objects['gen_series'], s3_objects['svd'], s3_objects['key_series'], s3_objects['time_series'])\n",
    "\n",
    "        # Get predictions\n",
    "        df = hit.load_s3()\n",
    "        name_frame = df[['name', 'uri', 'artist']].copy()\n",
    "        df_json = hit.prep_frame(df)\n",
    "\n",
    "        df_list = []\n",
    "        index=0\n",
    "        for i in range(math.ceil(len(df)/3)):\n",
    "            temp_json = hit.prep_frame(df.iloc[index:index+3])\n",
    "            preds = requests.post(f'https://72fe4ffwc6.execute-api.us-east-1.amazonaws.com/dev/model/{temp_json}')\n",
    "            preds = pd.read_json(preds.json()[0])\n",
    "            index += 3\n",
    "            df_list.append(preds)\n",
    "\n",
    "        pred_frame = pd.concat(df_list, ignore_index=True)\n",
    "        pred_frame = pred_frame.rename(columns={0:'predictions'})\n",
    "        name_frame = pd.concat([name_frame, pred_frame], axis=1)\n",
    "        print(name_frame)\n",
    "\n",
    "        # Add to playlist, delete from net\n",
    "        client_id, client_secret, access_token, refresh_token = hit.cred()\n",
    "        _ = hit.add_tracks(name_frame, client_id, client_secret, access_token, refresh_token)\n",
    "        _ = hit.delete_tracks(name_frame, client_id, client_secret, access_token, refresh_token)\n",
    "    except ValueError:\n",
    "        print('Nothing to update')\n",
    "\n",
    "\n",
    "    return 'Success'"
   ]
  },
  {
   "cell_type": "code",
   "execution_count": null,
   "metadata": {},
   "outputs": [
    {
     "name": "stdout",
     "output_type": "stream",
     "text": [
      "No event\n"
     ]
    }
   ],
   "source": [
    "# export\n",
    "if __name__ == '__main__':\n",
    "    try:\n",
    "        _ = handler(event, context)\n",
    "    except NameError:\n",
    "        print('No event')"
   ]
  }
 ],
 "metadata": {
  "kernelspec": {
   "display_name": "Python 3.8.8 64-bit ('base': conda)",
   "language": "python",
   "name": "python3"
  }
 },
 "nbformat": 4,
 "nbformat_minor": 2
}
