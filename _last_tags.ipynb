{
 "cells": [
  {
   "cell_type": "raw",
   "metadata": {},
   "source": [
    "---\n",
    "description: Pull all tracks from last FM\n",
    "output-file: _last_tags.html\n",
    "title: retrieval from last FM\n",
    "\n",
    "---\n",
    "\n"
   ]
  },
  {
   "cell_type": "code",
   "execution_count": null,
   "metadata": {},
   "outputs": [
    {
     "name": "stderr",
     "output_type": "stream",
     "text": [
      "/var/folders/cq/4f424mlx5f1fdqtf5dwzmz8m0000gn/T/ipykernel_82100/2836181286.py:7: FutureWarning: Passing a negative integer is deprecated in version 1.0 and will not be supported in future version. Instead, use None to not limit the column width.\n",
      "  pd.set_option('max_colwidth', -1)\n"
     ]
    }
   ],
   "source": [
    "import pandas as pd\n",
    "import requests\n",
    "import boto3\n",
    "import json\n",
    "\n",
    "pd.set_option('display.max_rows', None)\n",
    "pd.set_option('max_colwidth', -1)"
   ]
  },
  {
   "cell_type": "code",
   "execution_count": null,
   "metadata": {},
   "outputs": [],
   "source": [
    "#| include: false\n",
    "from nbdev.showdoc import *"
   ]
  },
  {
   "cell_type": "code",
   "execution_count": null,
   "metadata": {},
   "outputs": [],
   "source": [
    "def last_cred():\n",
    "\n",
    "    secret_name = \"last_keys\"\n",
    "    region_name = \"us-east-1\"\n",
    "\n",
    "    # Create a Secrets Manager client\n",
    "    session = boto3.session.Session()\n",
    "    client = session.client(\n",
    "        service_name='secretsmanager',\n",
    "        region_name=region_name\n",
    "    )\n",
    "\n",
    "    get_secret_value_response = client.get_secret_value(SecretId=secret_name)\n",
    "    last_key = json.loads(get_secret_value_response['SecretString'])['last_apiKEY']\n",
    "    last_agent = json.loads(get_secret_value_response['SecretString'])['last_userAGENT']\n",
    "    last_user = json.loads(get_secret_value_response['SecretString'])['last_username']\n",
    "\n",
    "    return last_key, last_agent, last_user"
   ]
  },
  {
   "cell_type": "code",
   "execution_count": null,
   "metadata": {},
   "outputs": [],
   "source": [
    "API_KEY, USER_AGENT, USERNAME = last_cred()"
   ]
  },
  {
   "cell_type": "code",
   "execution_count": null,
   "metadata": {},
   "outputs": [],
   "source": [
    "df = pd.read_csv('track_features.csv', index_col=0)"
   ]
  },
  {
   "cell_type": "code",
   "execution_count": null,
   "metadata": {},
   "outputs": [],
   "source": [
    "def last_tag(artist, method, tag_no=0, agent=USER_AGENT, user=USERNAME, key=API_KEY):\n",
    "\n",
    "    headers = {\n",
    "    'user-agent': agent\n",
    "    }\n",
    "\n",
    "    payload = {'method': method, \n",
    "                'artist': artist,\n",
    "            'user': user,\n",
    "            'api_key': key,\n",
    "            'format': 'json'\n",
    "                }\n",
    "\n",
    "\n",
    "    r = requests.get('https://ws.audioscrobbler.com/2.0/', headers=headers, params=payload)\n",
    "    try:\n",
    "        top = r.json()['toptags']['tag']\n",
    "        tags = [i['name'].lower() for i in top[:5]]\n",
    "    except IndexError:\n",
    "        tags = None\n",
    "    return tags"
   ]
  },
  {
   "cell_type": "code",
   "execution_count": null,
   "metadata": {},
   "outputs": [],
   "source": [
    "df['tag_list'] = df['artist'].apply(last_tag, method='artist.gettoptags')"
   ]
  },
  {
   "cell_type": "code",
   "execution_count": null,
   "metadata": {},
   "outputs": [],
   "source": [
    "non_zero = df['tag_list'][df['tag_list'].apply(lambda x: len(x)) != 0]\n",
    "gen_val = non_zero.apply(lambda x: x[0]).value_counts()\n",
    "gen_list = gen_val[gen_val >= 10].index.to_list()\n",
    "gen_list.remove('seen live')"
   ]
  },
  {
   "cell_type": "code",
   "execution_count": null,
   "metadata": {},
   "outputs": [],
   "source": [
    "# gen_list"
   ]
  },
  {
   "cell_type": "code",
   "execution_count": null,
   "metadata": {},
   "outputs": [],
   "source": [
    "def other_class(x):\n",
    "    try:\n",
    "        count = 0\n",
    "        try_tag = x[count]\n",
    "        while try_tag not in gen_list:\n",
    "            count += 1\n",
    "            try_tag = x[count]\n",
    "    except IndexError:\n",
    "        try_tag = 'Other'\n",
    "    return try_tag"
   ]
  },
  {
   "cell_type": "code",
   "execution_count": null,
   "metadata": {},
   "outputs": [],
   "source": [
    "df['genre'] = df['tag_list'].apply(other_class)"
   ]
  },
  {
   "cell_type": "code",
   "execution_count": null,
   "metadata": {},
   "outputs": [
    {
     "data": {
      "text/plain": [
       "electronic              256\n",
       "hip-hop                 214\n",
       "house                   104\n",
       "indie                   87 \n",
       "Other                   81 \n",
       "minimal                 36 \n",
       "rap                     32 \n",
       "deep house              30 \n",
       "soul                    29 \n",
       "rnb                     24 \n",
       "indie pop               21 \n",
       "beats                   21 \n",
       "dubstep                 21 \n",
       "folk                    19 \n",
       "trap                    19 \n",
       "techno                  19 \n",
       "indie rock              18 \n",
       "lo-fi                   17 \n",
       "progressive house       16 \n",
       "ambient                 14 \n",
       "dream pop               13 \n",
       "chillwave               12 \n",
       "hip hop                 12 \n",
       "tech house              12 \n",
       "chillout                10 \n",
       "instrumental hip-hop    10 \n",
       "Name: genre, dtype: int64"
      ]
     },
     "execution_count": null,
     "metadata": {},
     "output_type": "execute_result"
    }
   ],
   "source": [
    "df['genre'].value_counts()"
   ]
  },
  {
   "cell_type": "code",
   "execution_count": null,
   "metadata": {},
   "outputs": [],
   "source": [
    "df = df.drop('tag_list', axis=1)"
   ]
  },
  {
   "cell_type": "code",
   "execution_count": null,
   "metadata": {},
   "outputs": [],
   "source": [
    "# df[['name', 'artist', 'genre']]"
   ]
  },
  {
   "cell_type": "code",
   "execution_count": null,
   "metadata": {},
   "outputs": [],
   "source": [
    "df.to_csv('features_wGenre.csv')"
   ]
  }
 ],
 "metadata": {
  "kernelspec": {
   "display_name": "Python 3.8.8 64-bit ('base': conda)",
   "language": "python",
   "name": "python3"
  }
 },
 "nbformat": 4,
 "nbformat_minor": 2
}
