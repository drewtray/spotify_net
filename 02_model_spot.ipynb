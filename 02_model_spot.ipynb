{
 "cells": [
  {
   "cell_type": "code",
   "execution_count": null,
   "metadata": {},
   "outputs": [],
   "source": [
    "import pandas as pd\n",
    "import requests\n",
    "import boto3\n",
    "import json"
   ]
  },
  {
   "cell_type": "code",
   "execution_count": null,
   "metadata": {},
   "outputs": [],
   "source": [
    "#hide\n",
    "from nbdev.showdoc import *"
   ]
  },
  {
   "cell_type": "markdown",
   "metadata": {},
   "source": [
    "# Update spotify net/assign tracks\n",
    "\n",
    "> Update spotify net by assigning tracks with above a playcount threshold to an existing public playlist and removing from net"
   ]
  },
  {
   "cell_type": "code",
   "execution_count": null,
   "metadata": {},
   "outputs": [],
   "source": [
    "# export\n",
    "def cred():\n",
    "    secret_name = \"spotify_35\"\n",
    "    region_name = \"us-east-2\"\n",
    "\n",
    "    # Create a Secrets Manager client\n",
    "    session = boto3.session.Session()\n",
    "    client = session.client(\n",
    "        service_name='secretsmanager',\n",
    "        region_name=region_name\n",
    "    )\n",
    "\n",
    "    get_secret_value_response = client.get_secret_value(SecretId=secret_name)\n",
    "    client_id = json.loads(get_secret_value_response['SecretString'])['spot_clientID']\n",
    "    client_secret = json.loads(get_secret_value_response['SecretString'])['spot_clientSECRET']\n",
    "    access_token = json.loads(get_secret_value_response['SecretString'])['spot_ACC']\n",
    "    refresh_token = json.loads(get_secret_value_response['SecretString'])['spot_REF']\n",
    "\n",
    "    return client_id, client_secret, access_token, refresh_tokenb"
   ]
  },
  {
   "cell_type": "code",
   "execution_count": null,
   "metadata": {},
   "outputs": [],
   "source": [
    "spot_tracks = pd.read_csv('s3://spotify-net/newer_tracks.csv', index_col=0)\n",
    "last_tracks = pd.read_csv('s3://spotify-net/df_tracks.csv', index_col=0)\n"
   ]
  },
  {
   "cell_type": "code",
   "execution_count": null,
   "metadata": {},
   "outputs": [],
   "source": [
    "df_classify = pd.merge(last_tracks, spot_tracks, on='name')"
   ]
  },
  {
   "cell_type": "code",
   "execution_count": null,
   "metadata": {},
   "outputs": [
    {
     "data": {
      "text/html": [
       "<div>\n",
       "<style scoped>\n",
       "    .dataframe tbody tr th:only-of-type {\n",
       "        vertical-align: middle;\n",
       "    }\n",
       "\n",
       "    .dataframe tbody tr th {\n",
       "        vertical-align: top;\n",
       "    }\n",
       "\n",
       "    .dataframe thead th {\n",
       "        text-align: right;\n",
       "    }\n",
       "</style>\n",
       "<table border=\"1\" class=\"dataframe\">\n",
       "  <thead>\n",
       "    <tr style=\"text-align: right;\">\n",
       "      <th></th>\n",
       "      <th>name</th>\n",
       "      <th>artist</th>\n",
       "      <th>playcount</th>\n",
       "      <th>index</th>\n",
       "      <th>id</th>\n",
       "      <th>playlist id</th>\n",
       "      <th>diff</th>\n",
       "    </tr>\n",
       "  </thead>\n",
       "  <tbody>\n",
       "    <tr>\n",
       "      <th>0</th>\n",
       "      <td>I SEE IT COMING</td>\n",
       "      <td>Nasaya</td>\n",
       "      <td>11</td>\n",
       "      <td>2022-01-11 21:43:44+00:00</td>\n",
       "      <td>spotify:track:4qDVck33icBULgnvP6WmPh</td>\n",
       "      <td>3ubgXaHeBn1CWLUZPXvqkj</td>\n",
       "      <td>-1 days +02:16:16</td>\n",
       "    </tr>\n",
       "    <tr>\n",
       "      <th>1</th>\n",
       "      <td>MENTHOL*</td>\n",
       "      <td>Jean Dawson</td>\n",
       "      <td>11</td>\n",
       "      <td>2022-01-11 21:43:44+00:00</td>\n",
       "      <td>spotify:track:72rEOdEzgGc81Gos5dD0Je</td>\n",
       "      <td>3ubgXaHeBn1CWLUZPXvqkj</td>\n",
       "      <td>-1 days +02:16:16</td>\n",
       "    </tr>\n",
       "    <tr>\n",
       "      <th>2</th>\n",
       "      <td>Will You Be? - CFCF Remix</td>\n",
       "      <td>Baltra</td>\n",
       "      <td>7</td>\n",
       "      <td>2022-01-11 21:43:44+00:00</td>\n",
       "      <td>spotify:track:2ajUD0hDhkdQzySZk0DNDb</td>\n",
       "      <td>3ubgXaHeBn1CWLUZPXvqkj</td>\n",
       "      <td>-1 days +02:16:16</td>\n",
       "    </tr>\n",
       "  </tbody>\n",
       "</table>\n",
       "</div>"
      ],
      "text/plain": [
       "                        name       artist  playcount  \\\n",
       "0            I SEE IT COMING       Nasaya         11   \n",
       "1                   MENTHOL*  Jean Dawson         11   \n",
       "2  Will You Be? - CFCF Remix       Baltra          7   \n",
       "\n",
       "                       index                                    id  \\\n",
       "0  2022-01-11 21:43:44+00:00  spotify:track:4qDVck33icBULgnvP6WmPh   \n",
       "1  2022-01-11 21:43:44+00:00  spotify:track:72rEOdEzgGc81Gos5dD0Je   \n",
       "2  2022-01-11 21:43:44+00:00  spotify:track:2ajUD0hDhkdQzySZk0DNDb   \n",
       "\n",
       "              playlist id               diff  \n",
       "0  3ubgXaHeBn1CWLUZPXvqkj  -1 days +02:16:16  \n",
       "1  3ubgXaHeBn1CWLUZPXvqkj  -1 days +02:16:16  \n",
       "2  3ubgXaHeBn1CWLUZPXvqkj  -1 days +02:16:16  "
      ]
     },
     "execution_count": null,
     "metadata": {},
     "output_type": "execute_result"
    }
   ],
   "source": [
    "df_classify"
   ]
  },
  {
   "cell_type": "code",
   "execution_count": null,
   "metadata": {},
   "outputs": [],
   "source": [
    "# Get features of the above tracks\n",
    "# Hit model endpoint\n",
    "# Add to classified playlist\n",
    "# Delete from net"
   ]
  },
  {
   "cell_type": "code",
   "execution_count": null,
   "metadata": {},
   "outputs": [],
   "source": [
    "requests.get('http://127.0.0.1:8000/model/')"
   ]
  }
 ],
 "metadata": {
  "kernelspec": {
   "display_name": "Python 3.8.8 64-bit ('base': conda)",
   "language": "python",
   "name": "python3"
  }
 },
 "nbformat": 4,
 "nbformat_minor": 2
}
