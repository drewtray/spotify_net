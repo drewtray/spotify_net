{
 "cells": [
  {
   "cell_type": "code",
   "execution_count": null,
   "metadata": {},
   "outputs": [],
   "source": [
    "# default_exp retrieve"
   ]
  },
  {
   "cell_type": "code",
   "execution_count": null,
   "metadata": {},
   "outputs": [],
   "source": [
    "import config\n",
    "import requests\n",
    "import base64\n",
    "import json\n",
    "import pandas as pd\n",
    "import boto3"
   ]
  },
  {
   "cell_type": "code",
   "execution_count": null,
   "metadata": {},
   "outputs": [],
   "source": [
    "#hide\n",
    "from nbdev.showdoc import *"
   ]
  },
  {
   "cell_type": "markdown",
   "metadata": {},
   "source": [
    "# retrieval\n",
    "\n",
    "> Pull all tracks and their features for a user's public playlists"
   ]
  },
  {
   "cell_type": "code",
   "execution_count": null,
   "metadata": {},
   "outputs": [],
   "source": [
    "# export\n",
    "def cred():\n",
    "    secret_name = \"spotify_35\"\n",
    "    region_name = \"us-east-2\"\n",
    "\n",
    "    # Create a Secrets Manager client\n",
    "    session = boto3.session.Session()\n",
    "    client = session.client(\n",
    "        service_name='secretsmanager',\n",
    "        region_name=region_name\n",
    "    )\n",
    "\n",
    "    get_secret_value_response = client.get_secret_value(SecretId=secret_name)\n",
    "    client_id = json.loads(get_secret_value_response['SecretString'])['spot_clientID']\n",
    "    client_secret = json.loads(get_secret_value_response['SecretString'])['spot_clientSECRET']\n",
    "    access_token = json.loads(get_secret_value_response['SecretString'])['spot_ACC']\n",
    "    refresh_token = json.loads(get_secret_value_response['SecretString'])['spot_REF']\n",
    "\n",
    "    return client_id, client_secret, access_token, refresh_token"
   ]
  },
  {
   "cell_type": "code",
   "execution_count": null,
   "metadata": {},
   "outputs": [],
   "source": [
    "c_id, c_secret, access_token, refresh_token = cred()"
   ]
  },
  {
   "cell_type": "code",
   "execution_count": null,
   "metadata": {},
   "outputs": [],
   "source": [
    "df_items = pd.DataFrame()\n",
    "\n",
    "user_id = 'atraylor6'\n",
    "offset = 0\n",
    "\n",
    "while len(df_items) % 50 == 0:\n",
    "    \n",
    "    # print(len(df_items))\n",
    "\n",
    "    play_url = f'https://api.spotify.com/v1/users/{user_id}/playlists?limit=50&offset={offset}'\n",
    "    headers = {\n",
    "        'Authorization': f'Bearer {access_token}'\n",
    "    }\n",
    "\n",
    "    r_play = requests.get(play_url, headers=headers)\n",
    "    \n",
    "\n",
    "    if r_play.status_code == 401:\n",
    "\n",
    "        TOKEN_URL = 'https://accounts.spotify.com/api/token'\n",
    "\n",
    "        message = config.CLIENT_ID + ':' + config.CLIENT_SECRET\n",
    "        messageBytes = message.encode('ascii')\n",
    "        base64Bytes = base64.b64encode(messageBytes)\n",
    "        base64Message = base64Bytes.decode('ascii')\n",
    "    \n",
    "        headers = {\n",
    "        'Authorization': 'Basic ' + base64Message,\n",
    "        'Content-Type': 'application/x-www-form-urlencoded'\n",
    "        }\n",
    "\n",
    "        pars_refresh = {\n",
    "            'grant_type': 'refresh_token',\n",
    "            'refresh_token': refresh_token,\n",
    "            'redirect_uri': 'http://localhost:8888/callback',\n",
    "        }\n",
    "\n",
    "        r_refresh = requests.post(TOKEN_URL, headers=headers, params=pars_refresh)\n",
    "        access_token = r_refresh.json()['access_token']\n",
    "\n",
    "        headers = {\n",
    "        'Authorization': f'Bearer {access_token}'\n",
    "                    }\n",
    "\n",
    "        r_play = requests.get(play_url, headers=headers)\n",
    "        \n",
    "    r_play = r_play.json()\n",
    "    # print(r_play['items'][0])\n",
    "    df_items = df_items.append(r_play['items'], ignore_index=True)\n",
    "    # print(df_items.head())\n",
    "    offset += 50\n",
    "\n"
   ]
  },
  {
   "cell_type": "code",
   "execution_count": null,
   "metadata": {},
   "outputs": [],
   "source": [
    "df_pub = df_items[df_items['public'] == True]"
   ]
  },
  {
   "cell_type": "code",
   "execution_count": null,
   "metadata": {},
   "outputs": [
    {
     "data": {
      "text/plain": [
       "33    2iDp3O7zAdEdeUzlZHTtFu\n",
       "35    0ZSKsOlj7QFX9LstS7fk39\n",
       "39    2b6mA2TxfNjdnKH7mvgZIh\n",
       "41    5zw1m0XWqZ1772z8tizUaD\n",
       "42    4U9dVZ97mizvT2FBjx3fGx\n",
       "43    29U1jhpnjkwziC4pcsvpml\n",
       "44    4KgXBrWZqdqVMPrpFNHxpR\n",
       "93    1gM83cehv98l8cdMnZmk5N\n",
       "Name: id, dtype: object"
      ]
     },
     "execution_count": null,
     "metadata": {},
     "output_type": "execute_result"
    }
   ],
   "source": [
    "df_pub['id']"
   ]
  },
  {
   "cell_type": "code",
   "execution_count": null,
   "metadata": {},
   "outputs": [],
   "source": [
    "df_list = []\n",
    "\n",
    "for p_id in df_pub['id']:\n",
    "\n",
    "    df_tracks = pd.DataFrame()\n",
    "\n",
    "    offset = 0\n",
    "\n",
    "    while len(df_tracks) % 100 == 0:\n",
    "        \n",
    "        # print(len(df_tracks))\n",
    "\n",
    "        track_url = f'https://api.spotify.com/v1/playlists/{p_id}/tracks?limit=100&offset={offset}'\n",
    "        headers = {\n",
    "            'Authorization': f'Bearer {access_token}'\n",
    "        }\n",
    "\n",
    "        r_track = requests.get(track_url, headers=headers)\n",
    "\n",
    "        track_ids = [t['track']['id'] for t in r_track.json()['items']]\n",
    "        track_names = [t['track']['name'] for t in r_track.json()['items']]\n",
    "        track_artists = [t['track']['artists'][0]['name'] for t in r_track.json()['items']]\n",
    "\n",
    "        df_t = pd.DataFrame({\n",
    "            'id': track_ids,\n",
    "            'name': track_names,\n",
    "            'artist': track_artists,\n",
    "            'playlist id': p_id\n",
    "\n",
    "        })  \n",
    "\n",
    "        join_ids = ','.join(track_ids)\n",
    "        feat_url = f'https://api.spotify.com/v1/audio-features?limit=100&offset={offset}&ids={join_ids}'\n",
    "        r_feat = requests.get(feat_url, headers=headers)\n",
    "        feat_frame = pd.DataFrame(r_feat.json()['audio_features'])\n",
    "\n",
    "        df_t = pd.merge(df_t, feat_frame, on='id')\n",
    "\n",
    "        df_tracks = df_tracks.append(df_t)\n",
    "        offset += 100\n",
    "\n",
    "    df_list.append(df_tracks)\n",
    "\n",
    "df_tracks = pd.concat(df_list)"
   ]
  },
  {
   "cell_type": "code",
   "execution_count": null,
   "metadata": {},
   "outputs": [],
   "source": [
    "id_map = df_pub[['id', 'name']].set_index('id').to_dict()['name']\n",
    "df_tracks['playlist id'] = df_tracks['playlist id'].map(id_map)"
   ]
  },
  {
   "cell_type": "code",
   "execution_count": null,
   "metadata": {},
   "outputs": [
    {
     "data": {
      "text/plain": [
       "(1147, 21)"
      ]
     },
     "execution_count": null,
     "metadata": {},
     "output_type": "execute_result"
    }
   ],
   "source": [
    "df_tracks.shape"
   ]
  },
  {
   "cell_type": "code",
   "execution_count": null,
   "metadata": {},
   "outputs": [],
   "source": [
    "df_tracks.to_csv('track_features.csv')"
   ]
  }
 ],
 "metadata": {
  "kernelspec": {
   "display_name": "Python 3",
   "language": "python",
   "name": "python3"
  }
 },
 "nbformat": 4,
 "nbformat_minor": 2
}
