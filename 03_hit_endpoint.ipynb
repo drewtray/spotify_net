{
 "cells": [
  {
   "cell_type": "raw",
   "metadata": {},
   "source": [
    "---\n",
    "description: Prepare the data for model ingestion.\n",
    "output-file: hit_endpoint.html\n",
    "title: Model code\n",
    "\n",
    "---\n",
    "\n"
   ]
  },
  {
   "cell_type": "code",
   "execution_count": null,
   "metadata": {},
   "outputs": [],
   "source": [
    "#| default_exp hit_endpoint_03"
   ]
  },
  {
   "cell_type": "code",
   "execution_count": null,
   "metadata": {},
   "outputs": [],
   "source": [
    "#| export\n",
    "import pandas as pd\n",
    "import requests\n",
    "import boto3\n",
    "import base64\n",
    "import json\n",
    "from io import BytesIO\n",
    "import joblib\n",
    "import pickle\n",
    "import numpy as np\n",
    "pd.set_option('display.max_columns', None)"
   ]
  },
  {
   "cell_type": "code",
   "execution_count": null,
   "metadata": {},
   "outputs": [],
   "source": [
    "#| export\n",
    "def load_s3():\n",
    "    df_pred = pd.read_csv('s3://spotify-net/for_prediction.csv', index_col=0)\n",
    "\n",
    "    return df_pred"
   ]
  },
  {
   "cell_type": "code",
   "execution_count": null,
   "metadata": {},
   "outputs": [],
   "source": [
    "#| export\n",
    "def prep_frame(df):\n",
    "    df_pred = df\n",
    "    save_names = df_pred[['name', 'uri', 'artist']]\n",
    "    df_pred = df_pred.drop(['name', 'uri', 'artist'], axis=1)\n",
    "    df_pred = df_pred.sort_index(axis=1)\n",
    "    pred_json = df_pred.to_json()\n",
    "\n",
    "    return pred_json"
   ]
  },
  {
   "cell_type": "code",
   "execution_count": null,
   "metadata": {},
   "outputs": [],
   "source": [
    "#| export\n",
    "def make_request(endpoint):\n",
    "    preds = requests.get(endpoint)\n",
    "    preds = pd.read_json(preds.json()[0])\n",
    "\n",
    "    return preds"
   ]
  },
  {
   "cell_type": "markdown",
   "metadata": {},
   "source": [
    "Add to predicted playlists (how to prevent duplicates?)\n",
    "Delete from net"
   ]
  },
  {
   "cell_type": "code",
   "execution_count": null,
   "metadata": {},
   "outputs": [],
   "source": [
    "#| export\n",
    "p_dict = {\n",
    "    'DONNA':'0ZSKsOlj7QFX9LstS7fk39', \n",
    "    'Flowgurt':'1gM83cehv98l8cdMnZmk5N', \n",
    "    'Four K':'2b6mA2TxfNjdnKH7mvgZIh', \n",
    "    'Intermission Expedition':'4U9dVZ97mizvT2FBjx3fGx',\n",
    "    'PANTHERA ONCA':'29U1jhpnjkwziC4pcsvpml', \n",
    "    'søndag':'2iDp3O7zAdEdeUzlZHTtFu'\n",
    "}"
   ]
  },
  {
   "cell_type": "code",
   "execution_count": null,
   "metadata": {},
   "outputs": [],
   "source": [
    "#| export\n",
    "def cred():\n",
    "    secret_name = \"spotify_35\"\n",
    "    region_name = \"us-east-2\"\n",
    "\n",
    "    # Create a Secrets Manager client\n",
    "    session = boto3.session.Session()\n",
    "    client = session.client(\n",
    "        service_name='secretsmanager',\n",
    "        region_name=region_name\n",
    "    )\n",
    "\n",
    "    get_secret_value_response = client.get_secret_value(SecretId=secret_name)\n",
    "    client_id = json.loads(get_secret_value_response['SecretString'])['spot_clientID']\n",
    "    client_secret = json.loads(get_secret_value_response['SecretString'])['spot_clientSECRET']\n",
    "    access_token = json.loads(get_secret_value_response['SecretString'])['spot_ACC']\n",
    "    refresh_token = json.loads(get_secret_value_response['SecretString'])['spot_REF']\n",
    "\n",
    "    return client_id, client_secret, access_token, refresh_token"
   ]
  },
  {
   "cell_type": "code",
   "execution_count": null,
   "metadata": {},
   "outputs": [],
   "source": [
    "#| export\n",
    "def add_tracks(name_frame, client_id, client_secret, access_token, refresh_token):\n",
    "\n",
    "    for track, prediction in zip(name_frame['uri'], name_frame['predictions']):\n",
    "        target_playlist = p_dict[prediction]\n",
    "\n",
    "        headers = {\n",
    "                    'Authorization': f'Bearer {access_token}'\n",
    "                            }\n",
    "\n",
    "        ADD_URL = f'https://api.spotify.com/v1/playlists/{target_playlist}/tracks?uris={track}'\n",
    "        r_add = requests.post(ADD_URL, headers=headers)\n",
    "\n",
    "        if r_add.status_code == 401:\n",
    "\n",
    "            TOKEN_URL = 'https://accounts.spotify.com/api/token'\n",
    "\n",
    "            message = client_id + ':' + client_secret\n",
    "            messageBytes = message.encode('ascii')\n",
    "            base64Bytes = base64.b64encode(messageBytes)\n",
    "            base64Message = base64Bytes.decode('ascii')\n",
    "        \n",
    "            headers = {\n",
    "            'Authorization': 'Basic ' + base64Message,\n",
    "            'Content-Type': 'application/x-www-form-urlencoded'\n",
    "            }\n",
    "\n",
    "            pars_refresh = {\n",
    "                'grant_type': 'refresh_token',\n",
    "                'refresh_token': refresh_token,\n",
    "                'redirect_uri': 'http://localhost:8888/callback',\n",
    "            }\n",
    "\n",
    "            r_refresh = requests.post(TOKEN_URL, headers=headers, params=pars_refresh)\n",
    "            access_token = r_refresh.json()['access_token']\n",
    "\n",
    "            headers = {\n",
    "            'Authorization': f'Bearer {access_token}'\n",
    "                    }\n",
    "            \n",
    "            r_add = requests.post(ADD_URL, headers=headers)\n",
    "    \n",
    "    print('Added tracks to playlist')"
   ]
  },
  {
   "cell_type": "code",
   "execution_count": null,
   "metadata": {},
   "outputs": [],
   "source": [
    "#| export\n",
    "def delete_tracks(name_frame, client_id, client_secret, access_token, refresh_token):\n",
    "\n",
    "    for track in name_frame['uri']:\n",
    "\n",
    "        headers = {\n",
    "                    'Authorization': f'Bearer {access_token}'\n",
    "                            }\n",
    "\n",
    "        delete_playlist = '3ubgXaHeBn1CWLUZPXvqkj'\n",
    "        del_dict = {'tracks': [{'uri': track}]}\n",
    "\n",
    "        DELETE_URL = f'https://api.spotify.com/v1/playlists/{delete_playlist}/tracks?uris={track}'\n",
    "        r_delete = requests.delete(DELETE_URL, headers=headers, data=json.dumps(del_dict))\n",
    "\n",
    "        if r_delete.status_code == 401:\n",
    "\n",
    "            TOKEN_URL = 'https://accounts.spotify.com/api/token'\n",
    "\n",
    "            message = client_id + ':' + client_secret\n",
    "            messageBytes = message.encode('ascii')\n",
    "            base64Bytes = base64.b64encode(messageBytes)\n",
    "            base64Message = base64Bytes.decode('ascii')\n",
    "        \n",
    "            headers = {\n",
    "            'Authorization': 'Basic ' + base64Message,\n",
    "            'Content-Type': 'application/x-www-form-urlencoded'\n",
    "            }\n",
    "\n",
    "            pars_refresh = {\n",
    "                'grant_type': 'refresh_token',\n",
    "                'refresh_token': refresh_token,\n",
    "                'redirect_uri': 'http://localhost:8888/callback',\n",
    "            }\n",
    "\n",
    "            r_refresh = requests.post(TOKEN_URL, headers=headers, params=pars_refresh)\n",
    "            access_token = r_refresh.json()['access_token']\n",
    "\n",
    "            headers = {\n",
    "            'Authorization': f'Bearer {access_token}'\n",
    "                    }\n",
    "            \n",
    "            r_delete = requests.delete(DELETE_URL, headers=headers, data=json.dumps(del_dict))\n",
    "            print(r_delete.status_code)\n",
    "    \n",
    "    print('Removed tracks from net')"
   ]
  },
  {
   "cell_type": "code",
   "execution_count": null,
   "metadata": {},
   "outputs": [
    {
     "name": "stdout",
     "output_type": "stream",
     "text": [
      "Added tracks to playlist\n",
      "Removed tracks from net\n"
     ]
    }
   ],
   "source": [
    "#| export\n",
    "if __name__ == '__main__':   \n",
    "    df = load_s3()\n",
    "    name_frame = df[['name', 'uri', 'artist']].copy()\n",
    "    df_json = prep_frame(df)\n",
    "    predictions = make_request(f'http://127.0.0.1:8000/model/{df_json}')\n",
    "    name_frame['predictions'] = predictions\n",
    "    name_frame = name_frame.iloc[:2]\n",
    "    client_id, client_secret, access_token, refresh_token = cred()\n",
    "    _ = add_tracks(name_frame, client_id, client_secret, access_token, refresh_token)\n",
    "    _ = delete_tracks(name_frame, client_id, client_secret, access_token, refresh_token)"
   ]
  }
 ],
 "metadata": {
  "kernelspec": {
   "display_name": "Python 3.8.12 64-bit ('base': conda)",
   "language": "python",
   "name": "python3"
  }
 },
 "nbformat": 4,
 "nbformat_minor": 2
}
