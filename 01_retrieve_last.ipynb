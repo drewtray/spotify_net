{
 "cells": [
  {
   "cell_type": "code",
   "execution_count": null,
   "metadata": {},
   "outputs": [],
   "source": [
    "import pandas as pd\n",
    "import requests\n",
    "import boto3\n",
    "import json"
   ]
  },
  {
   "cell_type": "code",
   "execution_count": null,
   "metadata": {},
   "outputs": [],
   "source": [
    "#hide\n",
    "from nbdev.showdoc import *"
   ]
  },
  {
   "cell_type": "markdown",
   "metadata": {},
   "source": [
    "# retrieval from last FM\n",
    "\n",
    "> Pull all tracks from last FM"
   ]
  },
  {
   "cell_type": "code",
   "execution_count": null,
   "metadata": {},
   "outputs": [],
   "source": [
    "# export\n",
    "def last_cred():\n",
    "\n",
    "    secret_name = \"last_keys\"\n",
    "    region_name = \"us-east-1\"\n",
    "\n",
    "    # Create a Secrets Manager client\n",
    "    session = boto3.session.Session()\n",
    "    client = session.client(\n",
    "        service_name='secretsmanager',\n",
    "        region_name=region_name\n",
    "    )\n",
    "\n",
    "    get_secret_value_response = client.get_secret_value(SecretId=secret_name)\n",
    "    last_key = json.loads(get_secret_value_response['SecretString'])['last_apiKEY']\n",
    "    last_agent = json.loads(get_secret_value_response['SecretString'])['last_userAGENT']\n",
    "    last_user = json.loads(get_secret_value_response['SecretString'])['last_username']\n",
    "\n",
    "    return last_key, last_agent, last_user"
   ]
  },
  {
   "cell_type": "code",
   "execution_count": null,
   "metadata": {},
   "outputs": [],
   "source": [
    "API_KEY, USER_AGENT, USERNAME = last_cred()"
   ]
  },
  {
   "cell_type": "code",
   "execution_count": null,
   "metadata": {},
   "outputs": [],
   "source": [
    "def last_get(method, period='1month', agent=USER_AGENT, user=USERNAME, key=API_KEY):\n",
    "\n",
    "    headers = {\n",
    "    'user-agent': agent\n",
    "    }\n",
    "\n",
    "    payload = {'method': method, \n",
    "                'period': period,\n",
    "            'user': user,\n",
    "            'api_key': key,\n",
    "            'format': 'json'\n",
    "                }\n",
    "\n",
    "\n",
    "    r = requests.get('https://ws.audioscrobbler.com/2.0/', headers=headers, params=payload)\n",
    "    print(r.status_code)\n",
    "    return r.json()"
   ]
  },
  {
   "cell_type": "code",
   "execution_count": null,
   "metadata": {},
   "outputs": [
    {
     "name": "stdout",
     "output_type": "stream",
     "text": [
      "200\n"
     ]
    }
   ],
   "source": [
    "tracks = last_get('user.gettoptracks')\n",
    "df_tracks = pd.DataFrame(tracks['toptracks']['track'])\n",
    "df_tracks = df_tracks[['name', 'artist', 'playcount']]\n",
    "df_tracks['artist'] = df_tracks['artist'].apply(lambda x: x['name'])\n",
    "df_tracks['playcount'] = df_tracks['playcount'].astype(int)\n",
    "df_tracks = df_tracks.sort_values('playcount', ascending=False)\n"
   ]
  },
  {
   "cell_type": "code",
   "execution_count": null,
   "metadata": {},
   "outputs": [],
   "source": [
    "cutoff = 7\n",
    "df_tracks = df_tracks[df_tracks['playcount'] >= cutoff]"
   ]
  },
  {
   "cell_type": "code",
   "execution_count": null,
   "metadata": {},
   "outputs": [],
   "source": [
    "df_tracks.to_csv('s3://spotify-net/df_tracks.csv')"
   ]
  }
 ],
 "metadata": {
  "kernelspec": {
   "display_name": "Python 3.8.8 64-bit ('base': conda)",
   "language": "python",
   "name": "python3"
  }
 },
 "nbformat": 4,
 "nbformat_minor": 2
}
