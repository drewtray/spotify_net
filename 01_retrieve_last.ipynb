{
 "cells": [
  {
   "cell_type": "raw",
   "metadata": {},
   "source": [
    "---\n",
    "description: Pull all tracks from last FM\n",
    "output-file: retrieve_last.html\n",
    "title: retrieval from last FM\n",
    "\n",
    "---\n",
    "\n"
   ]
  },
  {
   "cell_type": "code",
   "execution_count": null,
   "metadata": {},
   "outputs": [],
   "source": [
    "#| default_exp retrieve_last_01"
   ]
  },
  {
   "cell_type": "code",
   "execution_count": null,
   "metadata": {},
   "outputs": [],
   "source": [
    "#| export\n",
    "import pandas as pd\n",
    "import requests\n",
    "import boto3\n",
    "import json"
   ]
  },
  {
   "cell_type": "code",
   "execution_count": null,
   "metadata": {},
   "outputs": [],
   "source": [
    "#| include: false\n",
    "from nbdev.showdoc import *"
   ]
  },
  {
   "cell_type": "code",
   "execution_count": null,
   "metadata": {},
   "outputs": [],
   "source": [
    "#| export\n",
    "def last_cred():\n",
    "\n",
    "    secret_name = \"last_keys\"\n",
    "    region_name = \"us-east-1\"\n",
    "\n",
    "    # Create a Secrets Manager client\n",
    "    session = boto3.session.Session()\n",
    "    client = session.client(\n",
    "        service_name='secretsmanager',\n",
    "        region_name=region_name\n",
    "    )\n",
    "\n",
    "    get_secret_value_response = client.get_secret_value(SecretId=secret_name)\n",
    "    last_key = json.loads(get_secret_value_response['SecretString'])['last_apiKEY']\n",
    "    last_agent = json.loads(get_secret_value_response['SecretString'])['last_userAGENT']\n",
    "    last_user = json.loads(get_secret_value_response['SecretString'])['last_username']\n",
    "\n",
    "    return last_key, last_agent, last_user"
   ]
  },
  {
   "cell_type": "code",
   "execution_count": null,
   "metadata": {},
   "outputs": [],
   "source": [
    "#| export\n",
    "def last_get(method, agent, user, key, period='1month'):\n",
    "\n",
    "    headers = {\n",
    "    'user-agent': agent\n",
    "    }\n",
    "\n",
    "    payload = {'method': method, \n",
    "                'period': period,\n",
    "            'user': user,\n",
    "            'api_key': key,\n",
    "            'format': 'json'\n",
    "                }\n",
    "\n",
    "\n",
    "    r = requests.get('https://ws.audioscrobbler.com/2.0/', headers=headers, params=payload)\n",
    "    # print(r.status_code)\n",
    "    return r.json()"
   ]
  },
  {
   "cell_type": "code",
   "execution_count": null,
   "metadata": {},
   "outputs": [],
   "source": [
    "#| export\n",
    "def last_format(f_tracks, cutoff):\n",
    "    f_tracks = pd.DataFrame(f_tracks['toptracks']['track'])\n",
    "    f_tracks = f_tracks[['name', 'artist', 'playcount']]\n",
    "    f_tracks['artist'] = f_tracks['artist'].apply(lambda x: x['name'])\n",
    "    f_tracks['playcount'] = f_tracks['playcount'].astype(int)\n",
    "    f_tracks = f_tracks.sort_values('playcount', ascending=False)\n",
    "    f_tracks = f_tracks[f_tracks['playcount'] >= cutoff]\n",
    "\n",
    "    return f_tracks"
   ]
  },
  {
   "cell_type": "code",
   "execution_count": null,
   "metadata": {},
   "outputs": [
    {
     "name": "stdout",
     "output_type": "stream",
     "text": [
      "Retrieved\n"
     ]
    }
   ],
   "source": [
    "#| export\n",
    "if __name__ == '__main__':\n",
    "    API_KEY, USER_AGENT, USERNAME = last_cred()\n",
    "    tracks = last_get('user.gettoptracks', USER_AGENT, USERNAME, API_KEY)\n",
    "    formatted = last_format(tracks, 7)\n",
    "    formatted.to_csv('s3://spotify-net/df_tracks.csv')\n",
    "    print('Retrieved')"
   ]
  }
 ],
 "metadata": {
  "kernelspec": {
   "display_name": "Python 3.8.8 64-bit ('base': conda)",
   "language": "python",
   "name": "python3"
  }
 },
 "nbformat": 4,
 "nbformat_minor": 2
}
