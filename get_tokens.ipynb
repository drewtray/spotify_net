{
 "cells": [
  {
   "cell_type": "code",
   "execution_count": null,
   "metadata": {},
   "outputs": [],
   "source": [
    "# default_exp get_tokens"
   ]
  },
  {
   "cell_type": "code",
   "execution_count": null,
   "metadata": {},
   "outputs": [],
   "source": [
    "import config\n",
    "import requests\n",
    "import base64\n",
    "import json"
   ]
  },
  {
   "cell_type": "markdown",
   "metadata": {},
   "source": [
    "# get_tokens\n",
    "\n",
    "> User grants access/app requests access. "
   ]
  },
  {
   "cell_type": "code",
   "execution_count": null,
   "metadata": {},
   "outputs": [],
   "source": [
    "#hide\n",
    "from nbdev.showdoc import *"
   ]
  },
  {
   "cell_type": "markdown",
   "metadata": {},
   "source": [
    "> Run below once, then load auth_code from url into config file"
   ]
  },
  {
   "cell_type": "code",
   "execution_count": null,
   "metadata": {},
   "outputs": [],
   "source": [
    "# AUTH_URL = 'https://accounts.spotify.com/authorize?'\n",
    "# scope = 'playlist-modify-public'\n",
    "\n",
    "# pars_a = {\n",
    "#     'client_id': config.CLIENT_ID,\n",
    "#     'response_type': 'code',\n",
    "#     'redirect_uri': 'http://localhost:8888/callback',\n",
    "#     'scope': scope, \n",
    "#     'show_dialog': True\n",
    "# }\n",
    "\n",
    "# r_a = requests.get(AUTH_URL, params=pars_a)\n",
    "\n",
    "# print(r_a.status_code)\n",
    "# print(r_a.url)"
   ]
  },
  {
   "cell_type": "markdown",
   "metadata": {},
   "source": [
    "> code from callback after auth"
   ]
  },
  {
   "cell_type": "code",
   "execution_count": null,
   "metadata": {},
   "outputs": [],
   "source": [
    "auth_code = config.AUTH_CODE\n",
    "TOKEN_URL = 'https://accounts.spotify.com/api/token'"
   ]
  },
  {
   "cell_type": "code",
   "execution_count": null,
   "metadata": {},
   "outputs": [],
   "source": [
    "message = config.CLIENT_ID + ':' + config.CLIENT_SECRET\n",
    "messageBytes = message.encode('ascii')\n",
    "base64Bytes = base64.b64encode(messageBytes)\n",
    "base64Message = base64Bytes.decode('ascii')\n"
   ]
  },
  {
   "cell_type": "code",
   "execution_count": null,
   "metadata": {},
   "outputs": [],
   "source": [
    "headers = {\n",
    "    'Authorization': 'Basic ' + base64Message,\n",
    "    'Content-Type': 'application/x-www-form-urlencoded'\n",
    "}\n",
    "\n",
    "pars_b = {\n",
    "    'grant_type': 'authorization_code',\n",
    "    'code': auth_code,\n",
    "    'redirect_uri': 'http://localhost:8888/callback',\n",
    "}\n",
    "\n",
    "r_b = requests.post(TOKEN_URL, headers=headers, params=pars_b)"
   ]
  },
  {
   "cell_type": "code",
   "execution_count": null,
   "metadata": {},
   "outputs": [],
   "source": [
    "r_b = r_b.json()"
   ]
  },
  {
   "cell_type": "code",
   "execution_count": null,
   "metadata": {},
   "outputs": [],
   "source": [
    "with open('spot_tokens.json', 'w') as outfile:\n",
    "    json.dump(r_b, outfile)"
   ]
  }
 ],
 "metadata": {
  "kernelspec": {
   "display_name": "Python 3",
   "language": "python",
   "name": "python3"
  }
 },
 "nbformat": 4,
 "nbformat_minor": 2
}
